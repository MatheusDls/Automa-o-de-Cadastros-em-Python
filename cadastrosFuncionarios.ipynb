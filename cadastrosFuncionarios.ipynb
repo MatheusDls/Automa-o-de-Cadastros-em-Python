{
 "cells": [
  {
   "cell_type": "code",
   "execution_count": 56,
   "id": "315bfc9b-336d-43e3-b7a3-5afc62960077",
   "metadata": {},
   "outputs": [
    {
     "name": "stdout",
     "output_type": "stream",
     "text": [
      "Posição do mouse: x=730, y=666\n"
     ]
    }
   ],
   "source": [
    "#Codigo para obter a localização do mouse (X,Y)\n",
    "# Atraso de 10 segundos\n",
    "time.sleep(5)\n",
    "\n",
    "# Captura a posição atual do mouse\n",
    "x, y = pyautogui.position()\n",
    "print(f\"Posição do mouse: x={x}, y={y}\")"
   ]
  },
  {
   "cell_type": "code",
   "execution_count": null,
   "id": "a4524ff6-2195-42b4-80b2-154a9da65c74",
   "metadata": {
    "scrolled": true
   },
   "outputs": [],
   "source": [
    "#liberar porto CMD - \"C:\\Program Files\\Google\\Chrome\\Application\\chrome.exe\" --remote-debugging-port=9222 --user-data-dir=\"C:/chrome-automation\"\n",
    "\n",
    "import pandas as pd\n",
    "import pyautogui as py\n",
    "import time\n",
    "from selenium import webdriver\n",
    "from selenium.webdriver.chrome.options import Options\n",
    "from selenium.webdriver.common.by import By\n",
    "from selenium.webdriver.common.keys import Keys \n",
    "\n",
    "# Configurar opções para se conectar à instância já aberta do Chrome\n",
    "chrome_options = Options()\n",
    "chrome_options.debugger_address = \"localhost:9222\"  \n",
    "\n",
    "# Conectar ao Chrome existente\n",
    "navegador = webdriver.Chrome(options=chrome_options)\n",
    "\n",
    "tabela = pd.read_excel(\"Planilha.xlsx\")\n",
    "display(tabela)\n",
    "\n",
    "# Pausa de 5 segundos para iniciar a automação\n",
    "time.sleep(5)\n",
    "\n",
    "# Incluir Funcionarios (+)\n",
    "py.click(1763, 167)\n",
    "\n",
    "# Iterar sobre as linhas do DataFrame\n",
    "for i, folha in enumerate(tabela[\"FOLHA\"][7:], start=7):  #alberto\n",
    "    nome = tabela.loc[i, \"NOME\"]\n",
    "    pis = tabela.loc[i, \"PIS\"]\n",
    "    cpf = tabela.loc[i, \"CPF\"]\n",
    "    admissao = tabela.loc[i, \"ADMISSÃO\"].strftime(\"%d/%m/%Y\") # Converter 'admissao' para o formato de string 'dd/mm/yyyy'\n",
    "    funcao = tabela.loc[i, \"FUNÇÃO\"]\n",
    "    departamento = tabela.loc[i, \"DEPARTAMENTO\"]\n",
    "    email = tabela.loc[i, \"EMAIL\"]\n",
    "\n",
    "    # Preencher Nª FOLHA\n",
    "    navegador.find_element(By.XPATH, '//*[@id=\"NumeroFolha\"]').send_keys(str(folha))\n",
    "    \n",
    "    # Preencher Nome\n",
    "    navegador.find_element(By.XPATH, '//*[@id=\"Nome\"]').send_keys(nome)\n",
    "\n",
    "    # Preencher Nª PIS/PASEP\n",
    "    navegador.find_element(By.XPATH, '//*[@id=\"NumeroPis\"]').send_keys(str(pis))\n",
    "    \n",
    "    # Preencher CPF\n",
    "    navegador.find_element(By.XPATH, '//*[@id=\"Cpf\"]').send_keys(str(cpf))\n",
    "    \n",
    "    # Preencher Nª IDENTIFICADOR\n",
    "    navegador.find_element(By.XPATH, '//*[@id=\"NumeroIdentificador\"]').send_keys(str(folha))\n",
    "    time.sleep(1)\n",
    "    \n",
    "    # Selecionar EMPRESA\n",
    "    navegador.find_element(By.XPATH, '//*[@id=\"EmpresaId\"]').send_keys(\"DISTRIBUIDORA DE PRODUTOS ALIMENTICIOS\")\n",
    "    navegador.find_element(By.XPATH, '//*[@id=\"EmpresaId\"]').send_keys(Keys.ENTER)\n",
    "    time.sleep(1)\n",
    "    \n",
    "    # Selecionar HORARIO\n",
    "    navegador.find_element(By.XPATH, '//*[@id=\"HorarioId\"]').send_keys(\"COMERCIAL\")\n",
    "    navegador.find_element(By.XPATH, '//*[@id=\"HorarioId\"]').send_keys(Keys.ENTER)\n",
    "    \n",
    "    time.sleep(1)\n",
    "    \n",
    "    # Selecionar FUNÇÃO\n",
    "    py.click(1394, 760)\n",
    "    time.sleep(1)\n",
    "    navegador.find_element(By.XPATH, '//*[@id=\"FuncaoId\"]').send_keys(funcao)\n",
    "    navegador.find_element(By.XPATH, '//*[@id=\"FuncaoId\"]').send_keys(Keys.ENTER)\n",
    "    \n",
    "    time.sleep(1)\n",
    "    \n",
    "    # Selecionar DEPARTAMENTO\n",
    "    py.click(x=1393, y=808)\n",
    "    navegador.find_element(By.XPATH, '//*[@id=\"DepartamentoId\"]').send_keys(departamento)\n",
    "    navegador.find_element(By.XPATH, '//*[@id=\"DepartamentoId\"]').send_keys(Keys.ENTER)\n",
    "     \n",
    "    # Inserir ADMISSÃO\n",
    "    navegador.find_element(By.XPATH, '//*[@id=\"Admissao\"]').send_keys(admissao)\n",
    "    \n",
    "    # Incluir Email\n",
    "    py.click(505, 604)\n",
    "    navegador.find_element(By.XPATH, '//*[@id=\"Email\"]').send_keys(email if pd.notna(email) else \"\")\n",
    "    \n",
    "    # Salvar Cadastro\n",
    "    navegador.find_element(By.XPATH, '//*[@id=\"btnSalvar\"]').send_keys(Keys.ENTER)\n",
    "\n",
    "    time.sleep(1)\n",
    "\n",
    "    # Incluir novo cadastro\n",
    "    py.click(1763, 165)\n"
   ]
  },
  {
   "cell_type": "code",
   "execution_count": null,
   "id": "93593abc-ae5a-453d-a1ab-452ab9713d7f",
   "metadata": {},
   "outputs": [],
   "source": []
  }
 ],
 "metadata": {
  "kernelspec": {
   "display_name": "Python 3 (ipykernel)",
   "language": "python",
   "name": "python3"
  },
  "language_info": {
   "codemirror_mode": {
    "name": "ipython",
    "version": 3
   },
   "file_extension": ".py",
   "mimetype": "text/x-python",
   "name": "python",
   "nbconvert_exporter": "python",
   "pygments_lexer": "ipython3",
   "version": "3.11.7"
  }
 },
 "nbformat": 4,
 "nbformat_minor": 5
}
